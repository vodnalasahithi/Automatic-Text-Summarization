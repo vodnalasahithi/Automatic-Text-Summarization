{
 "cells": [
  {
   "cell_type": "code",
   "execution_count": 3,
   "metadata": {},
   "outputs": [],
   "source": [
    "from gensim.summarization import summarize "
   ]
  },
  {
   "cell_type": "code",
   "execution_count": 6,
   "metadata": {},
   "outputs": [
    {
     "name": "stdout",
     "output_type": "stream",
     "text": [
      "Mahatma Gandhi was a great freedom fighter who spent his whole life in struggle for the independence of India.\n",
      "While fighting with Britishers he took help of his great weapons like non-violence and Satyagraha movements to achieve freedom.\n",
      "-----------------\n",
      "Mahatma Gandhi was a great freedom fighter who spent his whole life in struggle for the independence of India.\n",
      "He is called as the Bapu or Rashtrapita as he spent his life in fighting against British rule for the freedom of us.\n",
      "While fighting with Britishers he took help of his great weapons like non-violence and Satyagraha movements to achieve freedom.\n",
      "Many times he got arrested and sent to the jail but he never discourages himself and continued fighting for national freedom.He is the real father of our nation who really used his all power to make us free from the British rule.\n",
      "He truly understood the power of unity in people (from different castes, religions, community, race, age or gender) which he used all through his independence movement.\n",
      "Since 1947, the 15th of August is celebrated every year as the Independence Day in India.He could not continue his life after the independence of India in 1947 as he was assassinated by one of the Hindu activists, Nathuram Godse in 1948 on 30th of January.\n",
      "He enlightened our life with the true light of freedom from British rule.\n",
      "He proved that everything is possible with the non-violence and unity of people.\n",
      "-----------------\n",
      "Mahatma Gandhi was a great freedom fighter who spent his whole life in struggle for the independence of India.\n",
      "He is called as the Bapu or Rashtrapita as he spent his life in fighting against British rule for the freedom of us.\n",
      "While fighting with Britishers he took help of his great weapons like non-violence and Satyagraha movements to achieve freedom.\n",
      "Many times he got arrested and sent to the jail but he never discourages himself and continued fighting for national freedom.He is the real father of our nation who really used his all power to make us free from the British rule.\n"
     ]
    }
   ],
   "source": [
    "#f = open(\"telegraph.txt\",\"r\") \n",
    "#text = f.read() \n",
    "text = \"Mahatma Gandhi was a great freedom fighter who spent his whole life in struggle for the independence of India. He was born in the Indian Hindu family on 2nd of October in 1869 in the Porbander, Gujarat. He lived his whole as a leader of the Indian people. His whole life story is a great inspiration for us. He is called as the Bapu or Rashtrapita as he spent his life in fighting against British rule for the freedom of us. While fighting with Britishers he took help of his great weapons like non-violence and Satyagraha movements to achieve freedom. Many times he got arrested and sent to the jail but he never discourages himself and continued fighting for national freedom.He is the real father of our nation who really used his all power to make us free from the British rule. He truly understood the power of unity in people (from different castes, religions, community, race, age or gender) which he used all through his independence movement. Finally he forced Britishers to quit India forever through his mass movements on 15th of August in 1947. Since 1947, the 15th of August is celebrated every year as the Independence Day in India.He could not continue his life after the independence of India in 1947 as he was assassinated by one of the Hindu activists, Nathuram Godse in 1948 on 30th of January. He was the great personality who served his whole life till death for the motherland. He enlightened our life with the true light of freedom from British rule. He proved that everything is possible with the non-violence and unity of people. Even after getting died many years ago, he is still alive in the heart of every Indian as a “Father of the Nation and Bapu”.\"\n",
    "print(summarize(text)) \n",
    "print('-----------------')\n",
    "print(summarize(text, word_count=200)) \n",
    "print('-----------------')\n",
    "print(summarize(text, ratio=0.3))"
   ]
  },
  {
   "cell_type": "code",
   "execution_count": null,
   "metadata": {},
   "outputs": [],
   "source": []
  }
 ],
 "metadata": {
  "kernelspec": {
   "display_name": "Python 3",
   "language": "python",
   "name": "python3"
  },
  "language_info": {
   "codemirror_mode": {
    "name": "ipython",
    "version": 3
   },
   "file_extension": ".py",
   "mimetype": "text/x-python",
   "name": "python",
   "nbconvert_exporter": "python",
   "pygments_lexer": "ipython3",
   "version": "3.7.2"
  }
 },
 "nbformat": 4,
 "nbformat_minor": 2
}
