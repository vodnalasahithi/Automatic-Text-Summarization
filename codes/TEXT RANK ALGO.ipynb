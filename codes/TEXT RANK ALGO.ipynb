{
 "cells": [
  {
   "cell_type": "code",
   "execution_count": 26,
   "metadata": {},
   "outputs": [
    {
     "name": "stderr",
     "output_type": "stream",
     "text": [
      "[nltk_data] Downloading package punkt to /Users/thanmai/nltk_data...\n",
      "[nltk_data]   Package punkt is already up-to-date!\n"
     ]
    }
   ],
   "source": [
    "import numpy as np\n",
    "import pandas as pd\n",
    "import nltk\n",
    "nltk.download('punkt')\n",
    "import re"
   ]
  },
  {
   "cell_type": "code",
   "execution_count": 27,
   "metadata": {},
   "outputs": [],
   "source": [
    "from nltk.tokenize import sent_tokenize\n",
    "sentences = []\n",
    "i = 0\n",
    "s = \"Mahatma Gandhi was a great freedom fighter who spent his whole life in struggle for the independence of India. He was born in the Indian Hindu family on 2nd of October in 1869 in the Porbander, Gujarat. He lived his whole as a leader of the Indian people. His whole life story is a great inspiration for us. He is called as the Bapu or Rashtrapita as he spent his life in fighting against British rule for the freedom of us. While fighting with Britishers he took help of his great weapons like non-violence and Satyagraha movements to achieve freedom. Many times he got arrested and sent to the jail but he never discourages himself and continued fighting for national freedom.He is the real father of our nation who really used his all power to make us free from the British rule. He truly understood the power of unity in people (from different castes, religions, community, race, age or gender) which he used all through his independence movement. Finally he forced Britishers to quit India forever through his mass movements on 15th of August in 1947. Since 1947, the 15th of August is celebrated every year as the Independence Day in India.He could not continue his life after the independence of India in 1947 as he was assassinated by one of the Hindu activists, Nathuram Godse in 1948 on 30th of January. He was the great personality who served his whole life till death for the motherland. He enlightened our life with the true light of freedom from British rule. He proved that everything is possible with the non-violence and unity of people. Even after getting died many years ago, he is still alive in the heart of every Indian as a “Father of the Nation and Bapu”.\"\n",
    "# for s in df['article_text']:\n",
    "#    if i == 1:\n",
    "#         break\n",
    "s = re.sub(r\"[^a-zA-Z0-9.]+\", ' ', s)\n",
    "s = s.lower()\n",
    "sentences.append(sent_tokenize(s))\n",
    "sentences = [y for x in sentences for y in x] # flatten list\n"
   ]
  },
  {
   "cell_type": "code",
   "execution_count": 28,
   "metadata": {},
   "outputs": [
    {
     "data": {
      "text/plain": [
       "['mahatma gandhi was a great freedom fighter who spent his whole life in struggle for the independence of india.',\n",
       " 'he was born in the indian hindu family on 2nd of october in 1869 in the porbander gujarat.',\n",
       " 'he lived his whole as a leader of the indian people.',\n",
       " 'his whole life story is a great inspiration for us.',\n",
       " 'he is called as the bapu or rashtrapita as he spent his life in fighting against british rule for the freedom of us.']"
      ]
     },
     "execution_count": 28,
     "metadata": {},
     "output_type": "execute_result"
    }
   ],
   "source": [
    "sentences[:5]"
   ]
  },
  {
   "cell_type": "code",
   "execution_count": 29,
   "metadata": {},
   "outputs": [],
   "source": [
    "# Extract word vectors\n",
    "word_embeddings = {}\n",
    "def get_word_embeddings():\n",
    "    f = open('static/glove.6B.100d.txt', encoding='utf-8')\n",
    "    for line in f:\n",
    "        values = line.split()\n",
    "        word = values[0]\n",
    "\n",
    "        coefs = np.asarray(values[1:], dtype='float32')\n",
    "        word_embeddings[word] = coefs\n",
    "    f.close()\n",
    "    return word_embeddings\n"
   ]
  },
  {
   "cell_type": "code",
   "execution_count": null,
   "metadata": {},
   "outputs": [],
   "source": []
  },
  {
   "cell_type": "code",
   "execution_count": 30,
   "metadata": {},
   "outputs": [],
   "source": [
    "# remove punctuations, numbers and special characters\n",
    "# clean_sentences = pd.Series(sentences).str.replace(\"[^a-zA-Z]\", \" \")\n",
    " \n",
    "# make alphabets lowercase\n",
    "# clean_sentences = [s.lower() for s in clean_sentences]\n",
    "clean_sentences = s"
   ]
  },
  {
   "cell_type": "code",
   "execution_count": 31,
   "metadata": {},
   "outputs": [
    {
     "name": "stderr",
     "output_type": "stream",
     "text": [
      "[nltk_data] Downloading package stopwords to\n",
      "[nltk_data]     /Users/thanmai/nltk_data...\n",
      "[nltk_data]   Package stopwords is already up-to-date!\n"
     ]
    },
    {
     "data": {
      "text/plain": [
       "True"
      ]
     },
     "execution_count": 31,
     "metadata": {},
     "output_type": "execute_result"
    }
   ],
   "source": [
    "nltk.download('stopwords')"
   ]
  },
  {
   "cell_type": "code",
   "execution_count": 32,
   "metadata": {},
   "outputs": [],
   "source": [
    "from nltk.corpus import stopwords\n",
    "stop_words = stopwords.words('english')"
   ]
  },
  {
   "cell_type": "code",
   "execution_count": 33,
   "metadata": {},
   "outputs": [],
   "source": [
    "# function to remove stopwords\n",
    "def remove_stopwords(sen):\n",
    "    sen_new = \" \".join([i for i in sen if i not in stop_words])\n",
    "    return sen_new"
   ]
  },
  {
   "cell_type": "code",
   "execution_count": 34,
   "metadata": {},
   "outputs": [],
   "source": [
    "# remove stopwords from the sentences\n",
    "clean_sentences = [remove_stopwords(r.split()) for r in clean_sentences]"
   ]
  },
  {
   "cell_type": "code",
   "execution_count": 35,
   "metadata": {},
   "outputs": [],
   "source": [
    "# Extract word vectors\n",
    "word_embeddings = {}\n",
    "f = open('static/glove.6B.100d.txt', encoding='utf-8')\n",
    "for line in f:\n",
    "    values = line.split()\n",
    "    word = values[0]\n",
    "    coefs = np.asarray(values[1:], dtype='float32')\n",
    "    word_embeddings[word] = coefs\n",
    "f.close()"
   ]
  },
  {
   "cell_type": "code",
   "execution_count": 37,
   "metadata": {},
   "outputs": [],
   "source": [
    "sentence_vectors = []\n",
    "for i in clean_sentences:\n",
    "  if len(i) != 0:\n",
    "    v = sum([word_embeddings.get(w, np.zeros((100,))) for w in i.split()])/(len(i.split())+0.001)\n",
    "  else:\n",
    "    v = np.zeros((100,))\n",
    "  sentence_vectors.append(v)\n"
   ]
  },
  {
   "cell_type": "code",
   "execution_count": 38,
   "metadata": {},
   "outputs": [],
   "source": [
    "# similarity matrix\n",
    "sim_mat = np.zeros([len(sentences), len(sentences)])"
   ]
  },
  {
   "cell_type": "code",
   "execution_count": 39,
   "metadata": {},
   "outputs": [],
   "source": [
    "from sklearn.metrics.pairwise import cosine_similarity"
   ]
  },
  {
   "cell_type": "code",
   "execution_count": 40,
   "metadata": {},
   "outputs": [],
   "source": [
    "for i in range(len(sentences)):\n",
    "  for j in range(len(sentences)):\n",
    "    if i != j:\n",
    "      sim_mat[i][j] = cosine_similarity(sentence_vectors[i].reshape(1,100), sentence_vectors[j].reshape(1,100))[0,0]"
   ]
  },
  {
   "cell_type": "code",
   "execution_count": 41,
   "metadata": {},
   "outputs": [],
   "source": [
    "import networkx as nx\n",
    "\n",
    "nx_graph = nx.from_numpy_array(sim_mat)\n",
    "scores = nx.pagerank(nx_graph)"
   ]
  },
  {
   "cell_type": "code",
   "execution_count": 42,
   "metadata": {},
   "outputs": [],
   "source": [
    "ranked_sentences = sorted(((scores[i],s) for i,s in enumerate(sentences)), reverse=True)"
   ]
  },
  {
   "cell_type": "code",
   "execution_count": 43,
   "metadata": {},
   "outputs": [
    {
     "name": "stdout",
     "output_type": "stream",
     "text": [
      "he lived his whole as a leader of the indian people.\n",
      "even after getting died many years ago he is still alive in the heart of every indian as a father of the nation and bapu .\n",
      "finally he forced britishers to quit india forever through his mass movements on 15th of august in 1947. since 1947 the 15th of august is celebrated every year as the independence day in india.he could not continue his life after the independence of india in 1947 as he was assassinated by one of the hindu activists nathuram godse in 1948 on 30th of january.\n",
      "he enlightened our life with the true light of freedom from british rule.\n",
      "while fighting with britishers he took help of his great weapons like non violence and satyagraha movements to achieve freedom.\n",
      "many times he got arrested and sent to the jail but he never discourages himself and continued fighting for national freedom.he is the real father of our nation who really used his all power to make us free from the british rule.\n",
      "mahatma gandhi was a great freedom fighter who spent his whole life in struggle for the independence of india.\n",
      "his whole life story is a great inspiration for us.\n",
      "he was the great personality who served his whole life till death for the motherland.\n",
      "he was born in the indian hindu family on 2nd of october in 1869 in the porbander gujarat.\n"
     ]
    }
   ],
   "source": [
    "# Extract top 10 sentences as the summary\n",
    "for i in range(10):\n",
    "  print(ranked_sentences[i][1])"
   ]
  },
  {
   "cell_type": "code",
   "execution_count": null,
   "metadata": {},
   "outputs": [],
   "source": []
  }
 ],
 "metadata": {
  "kernelspec": {
   "display_name": "Python 3",
   "language": "python",
   "name": "python3"
  },
  "language_info": {
   "codemirror_mode": {
    "name": "ipython",
    "version": 3
   },
   "file_extension": ".py",
   "mimetype": "text/x-python",
   "name": "python",
   "nbconvert_exporter": "python",
   "pygments_lexer": "ipython3",
   "version": "3.7.2"
  }
 },
 "nbformat": 4,
 "nbformat_minor": 2
}
